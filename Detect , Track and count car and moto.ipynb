{
 "cells": [
  {
   "cell_type": "code",
   "execution_count": 1,
   "id": "4ba80def",
   "metadata": {},
   "outputs": [],
   "source": [
    "import cv2\n",
    "from tracker import *\n",
    "import os\n",
    "import matplotlib.pyplot as plt\n",
    "\n",
    "#fourcc=cv2.VideoWriter_fourcc('X','V','I','D')\n",
    "#result=cv2.VideoWriter('output.avi',fourcc,30,(1280,720))"
   ]
  },
  {
   "cell_type": "code",
   "execution_count": 2,
   "id": "a5468c1b",
   "metadata": {},
   "outputs": [],
   "source": [
    "# Create tracker object\n",
    "\n",
    "tracker = EuclideanDistTracker()\n",
    "\n",
    "\n",
    "\n",
    "cap = cv2.VideoCapture(\"highway.mp4\")"
   ]
  },
  {
   "cell_type": "code",
   "execution_count": 3,
   "id": "cf4c3eff",
   "metadata": {},
   "outputs": [],
   "source": [
    "fourcc=cv2.VideoWriter_fourcc('X','V','I','D')\n",
    "result=cv2.VideoWriter('output.avi',fourcc,30,(1280,720))"
   ]
  },
  {
   "cell_type": "markdown",
   "id": "8b9fb1c4",
   "metadata": {},
   "source": [
    "The cv2.boundingRect() function is a utility function in OpenCV that calculates and returns the bounding rectangle for a given contour. The bounding rectangle is the smallest rectangle that completely encloses the contour."
   ]
  },
  {
   "cell_type": "code",
   "execution_count": 5,
   "id": "0578b20a",
   "metadata": {},
   "outputs": [],
   "source": [
    "# Object detection from Stable camera\n",
    "\n",
    "object_detector = cv2.createBackgroundSubtractorMOG2(history=100, varThreshold=50) # if history is big number it will be hight \n",
    "\n",
    "detections = []\n",
    "\n",
    "while True:\n",
    "    ret, frame = cap.read()        \n",
    "    if ret is not True:        \n",
    "        break              \n",
    "    height, width, _ = frame.shape\n",
    "    # Extract Region of interest\n",
    "    roi = frame[340: 720,500: 800]\n",
    "    #plt.imshow(roi)\n",
    "    \n",
    "    # 1. Object Detection\n",
    "    mask = object_detector.apply(roi)\n",
    "    _, mask = cv2.threshold(mask, 254, 255, cv2.THRESH_BINARY)\n",
    "    contours, _ = cv2.findContours(mask, cv2.RETR_TREE, cv2.CHAIN_APPROX_SIMPLE)\n",
    "\n",
    "    \n",
    "\n",
    "    for cnt in contours:\n",
    "\n",
    "        # Calculate area and remove small elements       \n",
    "\n",
    "        area = cv2.contourArea(cnt)       \n",
    "\n",
    "        if area > 100:       \n",
    "\n",
    "            #cv2.drawContours(roi, [cnt], -1, (0, 255, 0), 2)              \n",
    "\n",
    "            x, y, w, h = cv2.boundingRect(cnt)               \n",
    "\n",
    "            detections.append([x, y, w, h])       \n",
    "    \n",
    "    # 2. Object Tracking\n",
    "    boxes_ids = tracker.update(detections)\n",
    "\n",
    "    for box_id in boxes_ids:\n",
    "\n",
    "        x, y, w, h, id = box_id\n",
    "\n",
    "        cv2.putText(roi, str(id), (x, y), cv2.FONT_HERSHEY_PLAIN, 2, (255, 0, 0), 2)\n",
    "\n",
    "        cv2.rectangle(roi, (x, y), (x + w, y + h), (0, 255, 0), 3)\n",
    "\n",
    "\n",
    "\n",
    "        cv2.imshow(\"roi\", roi)\n",
    "\n",
    "        cv2.imshow(\"Frame\", frame)\n",
    "\n",
    "        cv2.imshow(\"Mask\", mask)\n",
    "\n",
    "        result.write(frame)\n",
    "\n",
    "\n",
    "\n",
    "\n",
    "\n",
    "\n",
    "\n",
    "        key = cv2.waitKey(30)\n",
    "\n",
    "        if key == 27:\n",
    "\n",
    "            break        \n",
    "\n",
    "        result.release()\n",
    "\n",
    "        cap.release()\n",
    "\n",
    "        cv2.destroyAllWindows()"
   ]
  },
  {
   "cell_type": "code",
   "execution_count": null,
   "id": "aefc74e5",
   "metadata": {},
   "outputs": [],
   "source": []
  }
 ],
 "metadata": {
  "kernelspec": {
   "display_name": "Python 3 (ipykernel)",
   "language": "python",
   "name": "python3"
  },
  "language_info": {
   "codemirror_mode": {
    "name": "ipython",
    "version": 3
   },
   "file_extension": ".py",
   "mimetype": "text/x-python",
   "name": "python",
   "nbconvert_exporter": "python",
   "pygments_lexer": "ipython3",
   "version": "3.9.12"
  }
 },
 "nbformat": 4,
 "nbformat_minor": 5
}
